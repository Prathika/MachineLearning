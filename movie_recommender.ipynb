{
  "nbformat": 4,
  "nbformat_minor": 0,
  "metadata": {
    "colab": {
      "name": "movie_recommender.ipynb",
      "version": "0.3.2",
      "provenance": [],
      "include_colab_link": true
    },
    "kernelspec": {
      "name": "python3",
      "display_name": "Python 3"
    }
  },
  "cells": [
    {
      "cell_type": "markdown",
      "metadata": {
        "id": "view-in-github",
        "colab_type": "text"
      },
      "source": [
        "<a href=\"https://colab.research.google.com/github/Prathika/MachineLearning/blob/master/movie_recommender.ipynb\" target=\"_parent\"><img src=\"https://colab.research.google.com/assets/colab-badge.svg\" alt=\"Open In Colab\"/></a>"
      ]
    },
    {
      "metadata": {
        "id": "fpL3sScHaIMO",
        "colab_type": "code",
        "colab": {}
      },
      "cell_type": "code",
      "source": [
        "import numpy as np\n",
        "from lightfm.datasets import fetch_movielens\n",
        "from lightfm import LightFM"
      ],
      "execution_count": 0,
      "outputs": []
    },
    {
      "metadata": {
        "id": "E2pAjNwNbDe-",
        "colab_type": "code",
        "colab": {}
      },
      "cell_type": "code",
      "source": [
        "movie_data = fetch_movielens()"
      ],
      "execution_count": 0,
      "outputs": []
    },
    {
      "metadata": {
        "id": "fiSS8UK3bMLH",
        "colab_type": "code",
        "colab": {
          "base_uri": "https://localhost:8080/",
          "height": 85
        },
        "outputId": "562581a8-883d-42fa-c32c-aace2ce0cf8a"
      },
      "cell_type": "code",
      "source": [
        "print(repr(movie_data['train']))\n",
        "print(repr(movie_data['test']))\n"
      ],
      "execution_count": 12,
      "outputs": [
        {
          "output_type": "stream",
          "text": [
            "<943x1682 sparse matrix of type '<class 'numpy.int32'>'\n",
            "\twith 90570 stored elements in COOrdinate format>\n",
            "<943x1682 sparse matrix of type '<class 'numpy.int32'>'\n",
            "\twith 9430 stored elements in COOrdinate format>\n"
          ],
          "name": "stdout"
        }
      ]
    },
    {
      "metadata": {
        "id": "b0oS7i1Vby10",
        "colab_type": "code",
        "colab": {}
      },
      "cell_type": "code",
      "source": [
        "model = LightFM(loss='warp')"
      ],
      "execution_count": 0,
      "outputs": []
    },
    {
      "metadata": {
        "id": "E2jcpNiecVhl",
        "colab_type": "code",
        "colab": {
          "base_uri": "https://localhost:8080/",
          "height": 34
        },
        "outputId": "0a4fbdc8-fba7-4c66-89bf-69dabc3e0798"
      },
      "cell_type": "code",
      "source": [
        "model.fit(movie_data['train'], epochs=30, num_threads=2)"
      ],
      "execution_count": 14,
      "outputs": [
        {
          "output_type": "execute_result",
          "data": {
            "text/plain": [
              "<lightfm.lightfm.LightFM at 0x7f6b22a77828>"
            ]
          },
          "metadata": {
            "tags": []
          },
          "execution_count": 14
        }
      ]
    },
    {
      "metadata": {
        "id": "1coflblVdBX0",
        "colab_type": "code",
        "colab": {}
      },
      "cell_type": "code",
      "source": [
        "def simple_movie_recommender(model, data, user_ids):\n",
        "  \n",
        "  n_users, n_items = data['train'].shape\n",
        "  \n",
        "  for user_id in user_ids:\n",
        "      #print('alldata',data['item_labels'])\n",
        "      #print('csr',data['train'].tocsr())\n",
        "      #print('csr userid 3',data['train'].tocsr()[3])\n",
        "      #print('indices',data['train'].tocsr()[user_id].indices)\n",
        "      movies_liked_already = data['item_labels'][data['train'].tocsr()[user_id].indices]\n",
        "  \n",
        "      #movies our model predicts they will like\n",
        "      scores = model.predict(user_id, np.arange(n_items))\n",
        "      #rank them in order of most liked to least\n",
        "      top_items = data['item_labels'][np.argsort(-scores)]\n",
        "\n",
        "      #print out the results\n",
        "      print(\"User %s\" % user_id)\n",
        "      print(\"      movies_liked_already:\")\n",
        "\n",
        "      for x in movies_liked_already[:3]:\n",
        "          print(\"        %s\" % x)\n",
        "\n",
        "      print(\"      Recommended:\")\n",
        "\n",
        "      for x in top_items[:3]:\n",
        "              print(\"        %s\" % x)\n",
        "  "
      ],
      "execution_count": 0,
      "outputs": []
    },
    {
      "metadata": {
        "id": "nJtLUsmheUpG",
        "colab_type": "code",
        "colab": {
          "base_uri": "https://localhost:8080/",
          "height": 476
        },
        "outputId": "1a132bb5-a46f-4c36-d881-ee3413a95245"
      },
      "cell_type": "code",
      "source": [
        "simple_movie_recommender(model, movie_data, [3, 25, 450])"
      ],
      "execution_count": 49,
      "outputs": [
        {
          "output_type": "stream",
          "text": [
            "User 3\n",
            "      movies_liked_already:\n",
            "        Seven (Se7en) (1995)\n",
            "        Indiana Jones and the Last Crusade (1989)\n",
            "        Contact (1997)\n",
            "      Recommended:\n",
            "        Contact (1997)\n",
            "        Air Force One (1997)\n",
            "        Scream (1996)\n",
            "User 25\n",
            "      movies_liked_already:\n",
            "        Toy Story (1995)\n",
            "        Twelve Monkeys (1995)\n",
            "        Dead Man Walking (1995)\n",
            "      Recommended:\n",
            "        Toy Story (1995)\n",
            "        Independence Day (ID4) (1996)\n",
            "        Rock, The (1996)\n",
            "User 450\n",
            "      movies_liked_already:\n",
            "        Kolya (1996)\n",
            "        Devil's Own, The (1997)\n",
            "        Contact (1997)\n",
            "      Recommended:\n",
            "        Rosewood (1997)\n",
            "        Dante's Peak (1997)\n",
            "        Kiss the Girls (1997)\n"
          ],
          "name": "stdout"
        }
      ]
    }
  ]
}